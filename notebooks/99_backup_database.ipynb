{
 "cells": [
  {
   "cell_type": "code",
   "execution_count": 1,
   "id": "602186cb",
   "metadata": {},
   "outputs": [
    {
     "name": "stdout",
     "output_type": "stream",
     "text": [
      "--- Starting Database Backup ---\n",
      "Source: ../data/processed/s2orc_filtered.db\n",
      "Destination: ../data/processed/s2orc_filtered_backup.db\n",
      "\n",
      "✅ Backup successful!\n",
      "Time taken: 53.59 seconds\n"
     ]
    }
   ],
   "source": [
    "import sqlite3\n",
    "import os\n",
    "import time\n",
    "\n",
    "# --- 設定 ---\n",
    "DB_PATH = \"../data/processed/s2orc_filtered.db\"\n",
    "BACKUP_PATH = \"../data/processed/s2orc_filtered_backup.db\"\n",
    "\n",
    "# --- 実行 ---\n",
    "def create_backup():\n",
    "    \"\"\"\n",
    "    データベースを安全にバックアップする\n",
    "    \"\"\"\n",
    "    print(f\"--- Starting Database Backup ---\")\n",
    "    print(f\"Source: {DB_PATH}\")\n",
    "    print(f\"Destination: {BACKUP_PATH}\")\n",
    "\n",
    "    if not os.path.exists(DB_PATH):\n",
    "        print(\"❌ Error: Source database file not found.\")\n",
    "        return\n",
    "\n",
    "    start_time = time.time()\n",
    "    try:\n",
    "        # ソースDBに接続\n",
    "        source_conn = sqlite3.connect(DB_PATH)\n",
    "        # バックアップ先DBに接続（存在しない場合は新規作成される）\n",
    "        backup_conn = sqlite3.connect(BACKUP_PATH)\n",
    "        \n",
    "        # --- SQLiteの.backupメソッドを実行 ---\n",
    "        with backup_conn:\n",
    "            source_conn.backup(backup_conn)\n",
    "            \n",
    "        print(\"\\n✅ Backup successful!\")\n",
    "\n",
    "    except Exception as e:\n",
    "        print(f\"\\n💥 An error occurred during backup: {e}\")\n",
    "    finally:\n",
    "        # 接続を閉じる\n",
    "        if 'source_conn' in locals(): source_conn.close()\n",
    "        if 'backup_conn' in locals(): backup_conn.close()\n",
    "\n",
    "    end_time = time.time()\n",
    "    print(f\"Time taken: {end_time - start_time:.2f} seconds\")\n",
    "\n",
    "# --- 実行 ---\n",
    "create_backup()"
   ]
  }
 ],
 "metadata": {
  "kernelspec": {
   "display_name": "venv",
   "language": "python",
   "name": "python3"
  },
  "language_info": {
   "codemirror_mode": {
    "name": "ipython",
    "version": 3
   },
   "file_extension": ".py",
   "mimetype": "text/x-python",
   "name": "python",
   "nbconvert_exporter": "python",
   "pygments_lexer": "ipython3",
   "version": "3.12.7"
  }
 },
 "nbformat": 4,
 "nbformat_minor": 5
}
