{
 "cells": [
  {
   "cell_type": "code",
   "execution_count": 2,
   "id": "872d5fcd",
   "metadata": {},
   "outputs": [
    {
     "name": "stdout",
     "output_type": "stream",
     "text": [
      "--- Starting Final Annotation Process (for pair-creatable candidates only) ---\n",
      "✅ GeminiHandler initialized for model: gemini-2.5-flash\n",
      "Found 7 pair-creatable candidates to annotate. Starting parallel annotation...\n"
     ]
    },
    {
     "name": "stderr",
     "output_type": "stream",
     "text": [
      "Annotating pair-creatable papers: 100%|██████████| 7/7 [05:07<00:00, 43.92s/it]"
     ]
    },
    {
     "name": "stdout",
     "output_type": "stream",
     "text": [
      "\n",
      "Updating database with 6 new annotations...\n",
      "✨ Annotation process for pair-creatable papers is complete.\n",
      "\n",
      "--- Annotation process finished ---\n",
      "Total execution time: 5.13 minutes\n"
     ]
    },
    {
     "name": "stderr",
     "output_type": "stream",
     "text": [
      "\n"
     ]
    }
   ],
   "source": [
    "import sys\n",
    "import os\n",
    "import time\n",
    "from dotenv import load_dotenv\n",
    "\n",
    "# --- Step 1: モジュールをインポートするためのパス設定 ---\n",
    "sys.path.append(os.path.abspath('..'))\n",
    "\n",
    "try:\n",
    "    from src.gemini_handler import GeminiHandler\n",
    "    from src.annotator import PaperAnnotator\n",
    "except ImportError as e:\n",
    "    print(f\"❌ Error: 必要なモジュールが見つかりません。({e})\")\n",
    "    raise\n",
    "\n",
    "# --- Step 2: 設定 ---\n",
    "load_dotenv()\n",
    "DB_PATH = \"../data/processed/s2orc_filtered.db\"\n",
    "PROMPT_FILE = \"../prompts/annotation_prompt.txt\" \n",
    "MAX_WORKERS = 5 # APIのレート制限に応じて調整\n",
    "\n",
    "# --- Step 3: アノテーション処理の実行 ---\n",
    "def run_final_annotation():\n",
    "    \"\"\"\n",
    "    ペア作成可能な候補のみを対象に、機械的なアノテーションを実行する\n",
    "    \"\"\"\n",
    "    print(\"--- Starting Final Annotation Process (for pair-creatable candidates only) ---\")\n",
    "    start_time = time.time()\n",
    "    \n",
    "    gemini = GeminiHandler()\n",
    "    annotator = PaperAnnotator(\n",
    "        db_path=DB_PATH, \n",
    "        gemini_handler=gemini, \n",
    "        prompt_path=PROMPT_FILE\n",
    "    )\n",
    "    \n",
    "    # 並列処理メソッドを呼び出す\n",
    "    annotator.run_parallel(max_workers=MAX_WORKERS)\n",
    "    \n",
    "    end_time = time.time()\n",
    "    elapsed_time = end_time - start_time\n",
    "    print(f\"\\n--- Annotation process finished ---\")\n",
    "    print(f\"Total execution time: {elapsed_time / 60:.2f} minutes\")\n",
    "\n",
    "# --- 実行 ---\n",
    "if __name__ == '__main__':\n",
    "    run_final_annotation()"
   ]
  }
 ],
 "metadata": {
  "kernelspec": {
   "display_name": "venv",
   "language": "python",
   "name": "python3"
  },
  "language_info": {
   "codemirror_mode": {
    "name": "ipython",
    "version": 3
   },
   "file_extension": ".py",
   "mimetype": "text/x-python",
   "name": "python",
   "nbconvert_exporter": "python",
   "pygments_lexer": "ipython3",
   "version": "3.12.7"
  }
 },
 "nbformat": 4,
 "nbformat_minor": 5
}
