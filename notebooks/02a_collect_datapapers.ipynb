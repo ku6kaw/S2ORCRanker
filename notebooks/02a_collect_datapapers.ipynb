{
 "cells": [
  {
   "cell_type": "code",
   "execution_count": 5,
   "id": "e50af650",
   "metadata": {},
   "outputs": [
    {
     "name": "stdout",
     "output_type": "stream",
     "text": [
      "--- Collecting all data papers from Scopus ---\n"
     ]
    },
    {
     "name": "stderr",
     "output_type": "stream",
     "text": [
      "Searching Scopus: 100%|██████████| 19813/19813 [25:43<00:00, 12.84 papers/s]  \n"
     ]
    },
    {
     "name": "stdout",
     "output_type": "stream",
     "text": [
      "\n",
      "✅ Successfully collected 19,813 total data papers.\n",
      "--- Filtering papers with citedby-count >= 2 ---\n"
     ]
    },
    {
     "name": "stderr",
     "output_type": "stream",
     "text": [
      "Filtering: 100%|██████████| 19813/19813 [00:00<00:00, 2203238.38it/s]\n"
     ]
    },
    {
     "name": "stdout",
     "output_type": "stream",
     "text": [
      "Found 13,339 papers meeting the criteria.\n",
      "✨ Successfully saved filtered data to ../data/datapapers/raw/all_datapapers_raw.json\n"
     ]
    }
   ],
   "source": [
    "import sys\n",
    "import os\n",
    "import json\n",
    "import pandas as pd\n",
    "from dotenv import load_dotenv\n",
    "from tqdm.auto import tqdm\n",
    "\n",
    "# --- Step 1: モジュールをインポートするためのパス設定 ---\n",
    "sys.path.append(os.path.abspath(os.path.join(os.getcwd(), '..', 'src')))\n",
    "\n",
    "try:\n",
    "    from scopus_handler import ScopusSearcher\n",
    "except ImportError:\n",
    "    print(\"❌ Error: 'src/scopus_handler.py' が見つかりません。\")\n",
    "    raise\n",
    "\n",
    "# --- Step 2: 設定 ---\n",
    "load_dotenv()\n",
    "SCOPUS_API_KEY = os.getenv(\"SCOPUS_API_KEY\")\n",
    "if not SCOPUS_API_KEY:\n",
    "    raise ValueError(\"SCOPUS_API_KEYが設定されていません。\")\n",
    "\n",
    "# --- 出力先の定義 ---\n",
    "OUTPUT_DIR = \"../data/datapapers/raw/\"\n",
    "OUTPUT_FILE = os.path.join(OUTPUT_DIR, \"all_datapapers_raw.json\")\n",
    "os.makedirs(OUTPUT_DIR, exist_ok=True)\n",
    "\n",
    "# --- Step 3: データ論文リストの収集 ---\n",
    "\n",
    "def collect_and_save_all_data_papers():\n",
    "    \"\"\"Scopusからデータ論文を全件収集し、フィルタリングしてJSONとして保存する\"\"\"\n",
    "    \n",
    "    # 既にファイルが存在する場合は処理を中断\n",
    "    if os.path.exists(OUTPUT_FILE):\n",
    "        print(f\"ℹ️ Raw data file already exists at {OUTPUT_FILE}. Skipping.\")\n",
    "        # ファイルの中身を確認して件数を表示\n",
    "        with open(OUTPUT_FILE, 'r', encoding='utf-8') as f:\n",
    "            existing_data = json.load(f)\n",
    "        print(f\"   Existing file contains {len(existing_data)} papers.\")\n",
    "        return\n",
    "\n",
    "    print(\"--- Collecting all data papers from Scopus ---\")\n",
    "    scopus = ScopusSearcher(api_key=SCOPUS_API_KEY)\n",
    "    \n",
    "    query = \"DOCTYPE(dp)\"\n",
    "    # 上限なしで全件取得（float('inf')は無限大を意味します）\n",
    "    all_data_papers = scopus.fetch_all_results(query, max_results=float('inf'))\n",
    "    \n",
    "    if not all_data_papers:\n",
    "        print(\"❌ No data papers found or an error occurred.\")\n",
    "        return\n",
    "    \n",
    "    print(f\"\\n✅ Successfully collected {len(all_data_papers):,} total data papers.\")\n",
    "    \n",
    "    # --- Step 4: 被引用数でフィルタリング ---\n",
    "    print(\"--- Filtering papers with citedby-count >= 2 ---\")\n",
    "    \n",
    "    filtered_papers = []\n",
    "    for paper in tqdm(all_data_papers, desc=\"Filtering\"):\n",
    "        try:\n",
    "            # citedby-countを整数に変換して比較\n",
    "            cite_count = int(paper.get('citedby-count', 0))\n",
    "            if cite_count >= 2:\n",
    "                filtered_papers.append(paper)\n",
    "        except (ValueError, TypeError):\n",
    "            continue # 変換できない場合はスキップ\n",
    "\n",
    "    print(f\"Found {len(filtered_papers):,} papers meeting the criteria.\")\n",
    "    \n",
    "    # --- Step 5: 結果をJSONファイルとして保存 ---\n",
    "    with open(OUTPUT_FILE, 'w', encoding='utf-8') as f:\n",
    "        json.dump(filtered_papers, f, ensure_ascii=False, indent=4)\n",
    "        \n",
    "    print(f\"✨ Successfully saved filtered data to {OUTPUT_FILE}\")\n",
    "\n",
    "# --- 実行 ---\n",
    "if __name__ == '__main__':\n",
    "    collect_and_save_all_data_papers()"
   ]
  }
 ],
 "metadata": {
  "kernelspec": {
   "display_name": "venv",
   "language": "python",
   "name": "python3"
  },
  "language_info": {
   "codemirror_mode": {
    "name": "ipython",
    "version": 3
   },
   "file_extension": ".py",
   "mimetype": "text/x-python",
   "name": "python",
   "nbconvert_exporter": "python",
   "pygments_lexer": "ipython3",
   "version": "3.12.7"
  }
 },
 "nbformat": 4,
 "nbformat_minor": 5
}
