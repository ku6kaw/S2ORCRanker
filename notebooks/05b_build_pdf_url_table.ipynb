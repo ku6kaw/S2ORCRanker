{
 "cells": [
  {
   "cell_type": "code",
   "execution_count": 1,
   "id": "54de8cc6",
   "metadata": {},
   "outputs": [
    {
     "name": "stderr",
     "output_type": "stream",
     "text": [
      "c:\\Users\\kurokawa\\Project\\s2orcRanker\\venv\\Lib\\site-packages\\tqdm\\auto.py:21: TqdmWarning: IProgress not found. Please update jupyter and ipywidgets. See https://ipywidgets.readthedocs.io/en/stable/user_install.html\n",
      "  from .autonotebook import tqdm as notebook_tqdm\n"
     ]
    },
    {
     "name": "stdout",
     "output_type": "stream",
     "text": [
      "--- Starting PDF URL Table Construction ---\n",
      "Fetching target DOIs from `positive_candidates` table...\n",
      "Found 3,993 'Used' candidate DOIs to extract.\n"
     ]
    },
    {
     "name": "stderr",
     "output_type": "stream",
     "text": [
      "Extracting PDF URLs: 100%|██████████| 297/297 [08:26<00:00,  1.71s/it]"
     ]
    },
    {
     "name": "stdout",
     "output_type": "stream",
     "text": [
      "✅ PDF URL table construction complete.\n",
      "\n",
      "--- Verification ---\n",
      "Total PDF URLs saved: 3,594\n"
     ]
    },
    {
     "name": "stderr",
     "output_type": "stream",
     "text": [
      "\n"
     ]
    },
    {
     "data": {
      "text/html": [
       "<div>\n",
       "<style scoped>\n",
       "    .dataframe tbody tr th:only-of-type {\n",
       "        vertical-align: middle;\n",
       "    }\n",
       "\n",
       "    .dataframe tbody tr th {\n",
       "        vertical-align: top;\n",
       "    }\n",
       "\n",
       "    .dataframe thead th {\n",
       "        text-align: right;\n",
       "    }\n",
       "</style>\n",
       "<table border=\"1\" class=\"dataframe\">\n",
       "  <thead>\n",
       "    <tr style=\"text-align: right;\">\n",
       "      <th></th>\n",
       "      <th>doi</th>\n",
       "      <th>pdf_url</th>\n",
       "    </tr>\n",
       "  </thead>\n",
       "  <tbody>\n",
       "    <tr>\n",
       "      <th>0</th>\n",
       "      <td>10.3390/CIMB44090267</td>\n",
       "      <td>https://www.mdpi.com/1467-3045/44/9/267/pdf?ve...</td>\n",
       "    </tr>\n",
       "    <tr>\n",
       "      <th>1</th>\n",
       "      <td>10.1016/J.DIB.2021.107641</td>\n",
       "      <td>https://doi.org/10.1016/j.dib.2021.107641</td>\n",
       "    </tr>\n",
       "    <tr>\n",
       "      <th>2</th>\n",
       "      <td>10.3390/V15101977</td>\n",
       "      <td>https://www.mdpi.com/1999-4915/15/10/1977/pdf?...</td>\n",
       "    </tr>\n",
       "    <tr>\n",
       "      <th>3</th>\n",
       "      <td>10.3390/GENES14122147</td>\n",
       "      <td>https://www.mdpi.com/2073-4425/14/12/2147/pdf?...</td>\n",
       "    </tr>\n",
       "    <tr>\n",
       "      <th>4</th>\n",
       "      <td>10.1038/S41597-021-00893-Z</td>\n",
       "      <td>https://www.nature.com/articles/s41597-021-008...</td>\n",
       "    </tr>\n",
       "  </tbody>\n",
       "</table>\n",
       "</div>"
      ],
      "text/plain": [
       "                          doi  \\\n",
       "0        10.3390/CIMB44090267   \n",
       "1   10.1016/J.DIB.2021.107641   \n",
       "2           10.3390/V15101977   \n",
       "3       10.3390/GENES14122147   \n",
       "4  10.1038/S41597-021-00893-Z   \n",
       "\n",
       "                                             pdf_url  \n",
       "0  https://www.mdpi.com/1467-3045/44/9/267/pdf?ve...  \n",
       "1          https://doi.org/10.1016/j.dib.2021.107641  \n",
       "2  https://www.mdpi.com/1999-4915/15/10/1977/pdf?...  \n",
       "3  https://www.mdpi.com/2073-4425/14/12/2147/pdf?...  \n",
       "4  https://www.nature.com/articles/s41597-021-008...  "
      ]
     },
     "metadata": {},
     "output_type": "display_data"
    }
   ],
   "source": [
    "import sys\n",
    "import os\n",
    "import pandas as pd\n",
    "import sqlite3\n",
    "from dotenv import load_dotenv\n",
    "\n",
    "# --- Step 1: モジュールをインポートするためのパス設定 ---\n",
    "sys.path.append(os.path.abspath('..'))\n",
    "from src.pdf_url_extractor import PdfUrlExtractor\n",
    "\n",
    "# --- Step 2: 設定 ---\n",
    "S2ORC_DIR = \"../data/raw/s2orc/\"\n",
    "DB_PATH = \"../data/processed/s2orc_filtered.db\"\n",
    "\n",
    "# --- Step 3: PDF URLテーブルの構築を実行 ---\n",
    "def build_pdf_url_table():\n",
    "    print(\"--- Starting PDF URL Table Construction ---\")\n",
    "    \n",
    "    extractor = PdfUrlExtractor(db_path=DB_PATH)\n",
    "    extractor.build_table(s2orc_dir=S2ORC_DIR)\n",
    "    \n",
    "    print(\"\\n--- Verification ---\")\n",
    "    with sqlite3.connect(DB_PATH) as conn:\n",
    "        count = pd.read_sql_query(\"SELECT COUNT(*) FROM used_paper_pdf_links\", conn).iloc[0,0]\n",
    "        print(f\"Total PDF URLs saved: {count:,}\")\n",
    "        display(pd.read_sql_query(\"SELECT * FROM used_paper_pdf_links LIMIT 5\", conn))\n",
    "\n",
    "# --- 実行 ---\n",
    "if __name__ == '__main__':\n",
    "    build_pdf_url_table()"
   ]
  }
 ],
 "metadata": {
  "kernelspec": {
   "display_name": "venv",
   "language": "python",
   "name": "python3"
  },
  "language_info": {
   "codemirror_mode": {
    "name": "ipython",
    "version": 3
   },
   "file_extension": ".py",
   "mimetype": "text/x-python",
   "name": "python",
   "nbconvert_exporter": "python",
   "pygments_lexer": "ipython3",
   "version": "3.12.7"
  }
 },
 "nbformat": 4,
 "nbformat_minor": 5
}
