{
 "cells": [
  {
   "cell_type": "code",
   "execution_count": 1,
   "id": "f40dae27",
   "metadata": {},
   "outputs": [
    {
     "name": "stderr",
     "output_type": "stream",
     "text": [
      "c:\\Users\\kurokawa\\Project\\s2orcRanker\\venv\\Lib\\site-packages\\tqdm\\auto.py:21: TqdmWarning: IProgress not found. Please update jupyter and ipywidgets. See https://ipywidgets.readthedocs.io/en/stable/user_install.html\n",
      "  from .autonotebook import tqdm as notebook_tqdm\n"
     ]
    },
    {
     "name": "stdout",
     "output_type": "stream",
     "text": [
      "--- Starting S2ORC Database Construction ---\n",
      "Source data directory: ../data/raw/s2orc/\n",
      "Output database file: ../data/processed/s2orc_filtered.db\n",
      "Ensured output directory exists: ../data/processed\n",
      "--------------------------------------------------\n",
      "Total files: 297. Processed: 4. Remaining: 293.\n"
     ]
    },
    {
     "name": "stderr",
     "output_type": "stream",
     "text": [
      "Building Filtered Database: 100%|██████████| 293/293 [46:24<00:00,  9.50s/it]  "
     ]
    },
    {
     "name": "stdout",
     "output_type": "stream",
     "text": [
      "✅ Database construction complete.\n",
      "\n",
      "--- Database construction finished ---\n",
      "Total execution time: 0.77 hours (46.42 minutes)\n"
     ]
    },
    {
     "name": "stderr",
     "output_type": "stream",
     "text": [
      "\n"
     ]
    }
   ],
   "source": [
    "import sys\n",
    "import os\n",
    "import time\n",
    "\n",
    "# --- Step 1: モジュールをインポートするためのパス設定 ---\n",
    "sys.path.append(os.path.abspath(os.path.join(os.getcwd(), '..', 'src')))\n",
    "\n",
    "try:\n",
    "    from s2orc_processor import S2ORCProcessor\n",
    "except ImportError:\n",
    "    print(\"❌ Error: 'src/s2orc_processor.py' が見つかりません。\")\n",
    "    raise\n",
    "\n",
    "# --- Step 2: 設定 ---\n",
    "\n",
    "S2ORC_DIR = \"../data/raw/s2orc/\"\n",
    "DB_PATH = \"../data/processed/s2orc_filtered.db\"\n",
    "\n",
    "# --- Step 3: データベース構築の実行 ---\n",
    "\n",
    "def build_database():\n",
    "    \"\"\"データベース構築プロセス全体を実行するメイン関数\"\"\"\n",
    "    \n",
    "    print(\"--- Starting S2ORC Database Construction ---\")\n",
    "    print(f\"Source data directory: {S2ORC_DIR}\")\n",
    "    print(f\"Output database file: {DB_PATH}\")\n",
    "    \n",
    "    # ▼▼▼ 修正点: データベースの保存先ディレクトリを事前に作成 ▼▼▼\n",
    "    # os.path.dirname(DB_PATH) でディレクトリ部分のパスを取得\n",
    "    # exist_ok=True で、ディレクトリが既に存在していてもエラーにならないようにする\n",
    "    os.makedirs(os.path.dirname(DB_PATH), exist_ok=True)\n",
    "    print(f\"Ensured output directory exists: {os.path.dirname(DB_PATH)}\")\n",
    "    print(\"-\" * 50)\n",
    "    \n",
    "    start_time = time.time()\n",
    "    \n",
    "    processor = S2ORCProcessor(db_path=DB_PATH)\n",
    "\n",
    "    processor.build_database_parallel(s2orc_dir=S2ORC_DIR)\n",
    "    \n",
    "    end_time = time.time()\n",
    "    elapsed_time = end_time - start_time\n",
    "    print(f\"\\n--- Database construction finished ---\")\n",
    "    print(f\"Total execution time: {elapsed_time / 3600:.2f} hours ({elapsed_time / 60:.2f} minutes)\")\n",
    "\n",
    "# --- 実行 ---\n",
    "if __name__ == '__main__':\n",
    "    build_database()"
   ]
  }
 ],
 "metadata": {
  "kernelspec": {
   "display_name": "venv",
   "language": "python",
   "name": "python3"
  },
  "language_info": {
   "codemirror_mode": {
    "name": "ipython",
    "version": 3
   },
   "file_extension": ".py",
   "mimetype": "text/x-python",
   "name": "python",
   "nbconvert_exporter": "python",
   "pygments_lexer": "ipython3",
   "version": "3.12.7"
  }
 },
 "nbformat": 4,
 "nbformat_minor": 5
}
